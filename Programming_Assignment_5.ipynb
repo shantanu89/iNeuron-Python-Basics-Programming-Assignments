{
 "cells": [
  {
   "cell_type": "markdown",
   "metadata": {},
   "source": [
    "# 1. Write a Python Program to Find LCM?"
   ]
  },
  {
   "cell_type": "code",
   "execution_count": 15,
   "metadata": {},
   "outputs": [
    {
     "name": "stdout",
     "output_type": "stream",
     "text": [
      "Enter first number15\n",
      "Enter second number20\n",
      "Lcm is= 60\n"
     ]
    }
   ],
   "source": [
    "num1=int(input(\"Enter first number\"))\n",
    "num2=int(input(\"Enter second number\"))\n",
    "\n",
    "def lcm_calculator(num1,num2):\n",
    "    greater=0\n",
    "    \n",
    "    if num1>num2:\n",
    "        greater=num1\n",
    "    else:\n",
    "        greater=num2\n",
    "        \n",
    "    while(True):\n",
    "        if(greater%num1==0)and (greater%num2==0):\n",
    "            print(\"Lcm is=\",greater)\n",
    "            break\n",
    "        greater+=1\n",
    "        \n",
    "lcm_calculator(num1,num2)"
   ]
  },
  {
   "cell_type": "markdown",
   "metadata": {},
   "source": [
    "# 2. Write a Python Program to Find HCF?"
   ]
  },
  {
   "cell_type": "code",
   "execution_count": null,
   "metadata": {},
   "outputs": [],
   "source": [
    "# program1 using inbult method"
   ]
  },
  {
   "cell_type": "code",
   "execution_count": 10,
   "metadata": {},
   "outputs": [
    {
     "name": "stdout",
     "output_type": "stream",
     "text": [
      "Enter first number10\n",
      "Enter second number20\n",
      "The HCF of 10 and 20 is 10\n"
     ]
    }
   ],
   "source": [
    "import math\n",
    "\n",
    "num1=int(input(\"Enter first number\"))\n",
    "num2=int(input(\"Enter second number\"))\n",
    "\n",
    "print(\"The HCF of {} and {} is {}\".format(num1,num2,math.gcd(num1,num2)))"
   ]
  },
  {
   "cell_type": "code",
   "execution_count": null,
   "metadata": {},
   "outputs": [],
   "source": [
    "#program 2 using user defined method"
   ]
  },
  {
   "cell_type": "code",
   "execution_count": 13,
   "metadata": {},
   "outputs": [
    {
     "name": "stdout",
     "output_type": "stream",
     "text": [
      "Enter num1 : 10\n",
      "Enter num2 : 20\n",
      "The hcf of 10 and 20 is 10\n"
     ]
    }
   ],
   "source": [
    "num1 = int(input(\"Enter num1 : \"))\n",
    "num2 = int(input(\"Enter num2 : \"))\n",
    "\n",
    "\n",
    "if num1 < num2:\n",
    "    small = num1\n",
    "else:\n",
    "    small = num2\n",
    "hcf = 0   \n",
    "for i in range(1,small+1):\n",
    "    if num1 % i == 0 and num2 % i == 0 :\n",
    "        hcf = i\n",
    "    \n",
    "print(\"The hcf of {} and {} is {}\".format(num1,num2,hcf))"
   ]
  },
  {
   "cell_type": "markdown",
   "metadata": {},
   "source": [
    "# 3. Write a Python Program to Convert Decimal to Binary, Octal and Hexadecimal?"
   ]
  },
  {
   "cell_type": "code",
   "execution_count": 17,
   "metadata": {},
   "outputs": [
    {
     "name": "stdout",
     "output_type": "stream",
     "text": [
      "Enter valid decimal number100\n",
      "Binary of 100 is 0b1100100\n",
      "Binary of 100 is 0o144\n",
      "Binary of 100 is 0x64\n"
     ]
    }
   ],
   "source": [
    "decimal_num=int(input(\"Enter valid decimal number\"))\n",
    "\n",
    "print(\"Binary of {} is {}\".format(decimal_num,bin(decimal_num)))\n",
    "print(\"Binary of {} is {}\".format(decimal_num,oct(decimal_num)))\n",
    "print(\"Binary of {} is {}\".format(decimal_num,hex(decimal_num)))"
   ]
  },
  {
   "cell_type": "markdown",
   "metadata": {},
   "source": [
    "# 4. Write a Python Program To Find ASCII value of a character?"
   ]
  },
  {
   "cell_type": "code",
   "execution_count": 24,
   "metadata": {},
   "outputs": [
    {
     "name": "stdout",
     "output_type": "stream",
     "text": [
      "Enter any charactera\n",
      "ASCII value of character a =97\n"
     ]
    }
   ],
   "source": [
    "char=input(\"Enter any character\")\n",
    "\n",
    "print(\"ASCII value of character {} ={}\".format(char,ord(char)))\n",
    "\n",
    "# ord is inbuilt method to convert char to ascii"
   ]
  },
  {
   "cell_type": "markdown",
   "metadata": {},
   "source": [
    "# 5. Write a Python Program to Make a Simple Calculator with 4 basic mathematical operations?"
   ]
  },
  {
   "cell_type": "code",
   "execution_count": 3,
   "metadata": {},
   "outputs": [
    {
     "name": "stdout",
     "output_type": "stream",
     "text": [
      "Enter + for add : \n",
      "Enter - for Sub :\n",
      "Enter * for mul :\n",
      "Enter / for div :+\n",
      "Enter num1 : 10\n",
      "Enter num2 : 20\n",
      "Addition= 30.0\n"
     ]
    }
   ],
   "source": [
    "operand=input(\"Enter + for add : \\nEnter - for Sub :\\nEnter * for mul :\\nEnter / for div :\")\n",
    "\n",
    "\n",
    "\n",
    "num1 = float(input(\"Enter num1 : \"))\n",
    "num2 = float(input(\"Enter num2 : \"))\n",
    "\n",
    "if operand=='+':\n",
    "    print(\"Addition=\",num1+num2)\n",
    "elif operand=='-':\n",
    "    print(\"Substraction=\",num1-num2)\n",
    "elif operand=='*':\n",
    "    print(\"Multiplication=\",num1*num2)\n",
    "elif operand=='/':\n",
    "    print(\"Division=\",num1/num2)\n",
    "else:\n",
    "    print(\"Please select valid operand\")\n",
    "    \n"
   ]
  },
  {
   "cell_type": "code",
   "execution_count": null,
   "metadata": {},
   "outputs": [],
   "source": []
  }
 ],
 "metadata": {
  "kernelspec": {
   "display_name": "Python 3",
   "language": "python",
   "name": "python3"
  }
 },
 "nbformat": 4,
 "nbformat_minor": 4
}
