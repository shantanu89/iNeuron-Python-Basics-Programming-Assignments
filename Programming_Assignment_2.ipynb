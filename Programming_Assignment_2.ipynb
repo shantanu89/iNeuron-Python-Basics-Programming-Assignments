{
 "cells": [
  {
   "cell_type": "markdown",
   "metadata": {},
   "source": [
    "# 1. Write a Python program to convert kilometers to miles?"
   ]
  },
  {
   "cell_type": "code",
   "execution_count": 12,
   "metadata": {},
   "outputs": [
    {
     "name": "stdout",
     "output_type": "stream",
     "text": [
      "Enter the distance in  kilometer:23\n",
      "23.0 kilometers = 14.291537369999999 miles\n"
     ]
    }
   ],
   "source": [
    "km = float(input(\"Enter the distance in  kilometer:\"))  # getting input in km\n",
    "\n",
    "miles_conversion_value=0.62137119    # describing standard value miles per km\n",
    "\n",
    "miles=km*miles_conversion_value\n",
    "\n",
    "print(\"{} kilometers = {} miles\".format(km,miles) ) "
   ]
  },
  {
   "cell_type": "markdown",
   "metadata": {},
   "source": [
    "# 2. Write a Python program to convert Celsius to Fahrenheit? "
   ]
  },
  {
   "cell_type": "code",
   "execution_count": 13,
   "metadata": {},
   "outputs": [
    {
     "name": "stdout",
     "output_type": "stream",
     "text": [
      "Enter the temparature in celsius : 46\n",
      "46.0 celsius = 114.8 fahrenheit\n"
     ]
    }
   ],
   "source": [
    "celsius = float(input(\"Enter the temparature in celsius : \"))  # getting input in celsius\n",
    "\n",
    "fahrenheit = (celsius*1.8)+32\n",
    "\n",
    "print(\"{} celsius = {} fahrenheit\".format(celsius,fahrenheit) ) "
   ]
  },
  {
   "cell_type": "markdown",
   "metadata": {},
   "source": [
    "# 3. Write a Python program to display calendar? "
   ]
  },
  {
   "cell_type": "code",
   "execution_count": 18,
   "metadata": {},
   "outputs": [
    {
     "name": "stdout",
     "output_type": "stream",
     "text": [
      "Enter year : 1999\n",
      "Enter month (1-12) 05\n",
      "      May 1999\n",
      "Mo Tu We Th Fr Sa Su\n",
      "                1  2\n",
      " 3  4  5  6  7  8  9\n",
      "10 11 12 13 14 15 16\n",
      "17 18 19 20 21 22 23\n",
      "24 25 26 27 28 29 30\n",
      "31\n",
      "\n"
     ]
    }
   ],
   "source": [
    "import calendar\n",
    " \n",
    "year=int(input(\"Enter year : \"))\n",
    "\n",
    "month=int(input(\"Enter month (1-12) \")) #eg:5\n",
    "\n",
    "print(calendar.month(year,month))"
   ]
  },
  {
   "cell_type": "markdown",
   "metadata": {},
   "source": [
    "# 4. Write a Python program to solve quadratic equation? "
   ]
  },
  {
   "cell_type": "code",
   "execution_count": 22,
   "metadata": {},
   "outputs": [
    {
     "name": "stdout",
     "output_type": "stream",
     "text": [
      "Enter the value of a:5\n",
      "Enter the value of b:6\n",
      "Enter the value of c:7\n",
      "x1=(-0.6+0.5830951894845301j) and x2=(-0.6-0.5830951894845301j)\n"
     ]
    }
   ],
   "source": [
    "import cmath\n",
    "\n",
    "a= float(input(\"Enter the value of a:\"))\n",
    "b= float(input(\"Enter the value of b:\"))\n",
    "c= float(input(\"Enter the value of c:\"))\n",
    "\n",
    "\n",
    "discriminant = (b*b)-(2*a*c)\n",
    "\n",
    "x1 = (-b+cmath.sqrt(discriminant))/(2*a)\n",
    "x2 = (-b-cmath.sqrt(discriminant))/(2*a)\n",
    "\n",
    "print(\"x1={} and x2={}\".format(x1,x2))\n"
   ]
  },
  {
   "cell_type": "markdown",
   "metadata": {},
   "source": [
    "# 5. Write a Python program to swap two variables without temp variable?"
   ]
  },
  {
   "cell_type": "code",
   "execution_count": 1,
   "metadata": {},
   "outputs": [
    {
     "name": "stdout",
     "output_type": "stream",
     "text": [
      "Enter 1st number10\n",
      "Enter 2nd number20\n",
      "Original numbers =  10 20\n",
      "Swapped numbers =  20 10\n"
     ]
    }
   ],
   "source": [
    "# program 1\n",
    "\n",
    "num1=int(input(\"Enter 1st number\"))\n",
    "num2=int(input(\"Enter 2nd number\"))\n",
    "\n",
    "print(\"Original numbers = \",num1,num2)\n",
    "\n",
    "num3,num4=num2,num1\n",
    "\n",
    "print(\"Swapped numbers = \",num3,num4)"
   ]
  },
  {
   "cell_type": "code",
   "execution_count": 2,
   "metadata": {},
   "outputs": [
    {
     "name": "stdout",
     "output_type": "stream",
     "text": [
      "Enter 1st number99\n",
      "Enter 2nd number89\n",
      "Original numbers =  99 89\n",
      "Swapped numbers =  89 99\n"
     ]
    }
   ],
   "source": [
    "# program 2 without using temp variable\n",
    "\n",
    "num1=int(input(\"Enter 1st number\"))\n",
    "num2=int(input(\"Enter 2nd number\"))\n",
    "\n",
    "print(\"Original numbers = \",num1,num2)\n",
    "\n",
    "num1=num1+num2   \n",
    "num2=num1-num2\n",
    "num1=num1-num2\n",
    "\n",
    "print(\"Swapped numbers = \",num1,num2)"
   ]
  },
  {
   "cell_type": "code",
   "execution_count": null,
   "metadata": {},
   "outputs": [],
   "source": []
  }
 ],
 "metadata": {
  "kernelspec": {
   "display_name": "Python 3",
   "language": "python",
   "name": "python3"
  },
  "language_info": {
   "codemirror_mode": {
    "name": "ipython",
    "version": 3
   },
   "file_extension": ".py",
   "mimetype": "text/x-python",
   "name": "python",
   "nbconvert_exporter": "python",
   "pygments_lexer": "ipython3",
   "version": "3.8.5"
  }
 },
 "nbformat": 4,
 "nbformat_minor": 4
}
