{
 "cells": [
  {
   "cell_type": "markdown",
   "metadata": {},
   "source": [
    "# 1. Write a Python program to print &quot;Hello Python&quot;?"
   ]
  },
  {
   "cell_type": "code",
   "execution_count": 1,
   "metadata": {},
   "outputs": [
    {
     "name": "stdout",
     "output_type": "stream",
     "text": [
      "Hello Python\n"
     ]
    }
   ],
   "source": [
    "print(\"Hello Python\")"
   ]
  },
  {
   "cell_type": "markdown",
   "metadata": {},
   "source": [
    "# 2. Write a Python program to do arithmetical operations addition and division.?"
   ]
  },
  {
   "cell_type": "code",
   "execution_count": 11,
   "metadata": {},
   "outputs": [
    {
     "name": "stdout",
     "output_type": "stream",
     "text": [
      "Enter 1st number20\n",
      "Enter 2nd number10\n",
      "Addition 30\n",
      "Dividion 10\n"
     ]
    }
   ],
   "source": [
    "num1=int(input(\"Enter 1st number\"))\n",
    "num2=int(input(\"Enter 2nd number\"))\n",
    "\n",
    "sum = num1+num2\n",
    "div = num1-num2\n",
    "\n",
    "print(\"Addition\",sum)\n",
    "print(\"Dividion\",div)"
   ]
  },
  {
   "cell_type": "markdown",
   "metadata": {},
   "source": [
    "# 3. Write a Python program to find the area of a triangle?"
   ]
  },
  {
   "cell_type": "code",
   "execution_count": 17,
   "metadata": {},
   "outputs": [
    {
     "name": "stdout",
     "output_type": "stream",
     "text": [
      "Enter the base of trangle30\n",
      "Enter the height of trangle30\n",
      "Area of trangle is =  450.0\n"
     ]
    }
   ],
   "source": [
    "base_of_trangle=float(input(\"Enter the base of trangle\"))\n",
    "height_of_trangle=float(input(\"Enter the height of trangle\"))\n",
    "\n",
    "area_of_trangle = (base_of_trangle*height_of_trangle)/2\n",
    "\n",
    "print(\"Area of trangle is = \",area_of_trangle)"
   ]
  },
  {
   "cell_type": "markdown",
   "metadata": {},
   "source": [
    "# 4. Write a Python program to swap two variables?"
   ]
  },
  {
   "cell_type": "code",
   "execution_count": 19,
   "metadata": {},
   "outputs": [
    {
     "name": "stdout",
     "output_type": "stream",
     "text": [
      "Enter 1st number100\n",
      "Enter 2nd number200\n",
      "Original numbers =  100 200\n",
      "Swapped numbers =  200 100\n"
     ]
    }
   ],
   "source": [
    "# program 1\n",
    "\n",
    "num1=int(input(\"Enter 1st number\"))\n",
    "num2=int(input(\"Enter 2nd number\"))\n",
    "\n",
    "print(\"Original numbers = \",num1,num2)\n",
    "\n",
    "num3,num4=num2,num1\n",
    "\n",
    "print(\"Swapped numbers = \",num3,num4)"
   ]
  },
  {
   "cell_type": "code",
   "execution_count": 20,
   "metadata": {},
   "outputs": [
    {
     "name": "stdout",
     "output_type": "stream",
     "text": [
      "Enter 1st number50\n",
      "Enter 2nd number80\n",
      "Original numbers =  50 80\n",
      "Swapped numbers =  80 50\n"
     ]
    }
   ],
   "source": [
    "# program 2 with using temp variable\n",
    "\n",
    "num1=int(input(\"Enter 1st number\"))\n",
    "num2=int(input(\"Enter 2nd number\"))\n",
    "\n",
    "print(\"Original numbers = \",num1,num2)\n",
    "\n",
    "\n",
    "temp=num1\n",
    "num1=num2\n",
    "num2=temp\n",
    "\n",
    "print(\"Swapped numbers = \",num1,num2)"
   ]
  },
  {
   "cell_type": "code",
   "execution_count": 24,
   "metadata": {},
   "outputs": [
    {
     "name": "stdout",
     "output_type": "stream",
     "text": [
      "Enter 1st number55\n",
      "Enter 2nd number66\n",
      "Original numbers =  55 66\n",
      "Swapped numbers =  66 55\n"
     ]
    }
   ],
   "source": [
    "# program 3 without using temp variable\n",
    "\n",
    "num1=int(input(\"Enter 1st number\"))\n",
    "num2=int(input(\"Enter 2nd number\"))\n",
    "\n",
    "print(\"Original numbers = \",num1,num2)\n",
    "\n",
    "num1=num1+num2   \n",
    "num2=num1-num2\n",
    "num1=num1-num2\n",
    "\n",
    "print(\"Swapped numbers = \",num1,num2)"
   ]
  },
  {
   "cell_type": "markdown",
   "metadata": {},
   "source": [
    "# 5. Write a Python program to generate a random number?"
   ]
  },
  {
   "cell_type": "code",
   "execution_count": 26,
   "metadata": {},
   "outputs": [
    {
     "name": "stdout",
     "output_type": "stream",
     "text": [
      "0.26103239946663037\n"
     ]
    }
   ],
   "source": [
    "import random\n",
    "\n",
    "rand_number1= random.random()\n",
    "\n",
    "print(rand_number)"
   ]
  },
  {
   "cell_type": "code",
   "execution_count": null,
   "metadata": {},
   "outputs": [],
   "source": []
  }
 ],
 "metadata": {
  "kernelspec": {
   "display_name": "Python 3",
   "language": "python",
   "name": "python3"
  },
  "language_info": {
   "codemirror_mode": {
    "name": "ipython",
    "version": 3
   },
   "file_extension": ".py",
   "mimetype": "text/x-python",
   "name": "python",
   "nbconvert_exporter": "python",
   "pygments_lexer": "ipython3",
   "version": "3.8.5"
  }
 },
 "nbformat": 4,
 "nbformat_minor": 4
}
