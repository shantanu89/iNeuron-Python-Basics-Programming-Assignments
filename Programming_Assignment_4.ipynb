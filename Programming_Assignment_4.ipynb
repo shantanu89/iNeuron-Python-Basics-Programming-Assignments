{
 "cells": [
  {
   "cell_type": "markdown",
   "metadata": {},
   "source": [
    "# 1. Write a Python Program to Find the Factorial of a Number?"
   ]
  },
  {
   "cell_type": "code",
   "execution_count": 74,
   "metadata": {},
   "outputs": [
    {
     "name": "stdout",
     "output_type": "stream",
     "text": [
      "Enter any number:5\n",
      "Factorial of 5! = 120\n"
     ]
    }
   ],
   "source": [
    "num=int(input(\"Enter any number:\"))\n",
    "\n",
    "factorial=1\n",
    "\n",
    "if num==0:\n",
    "    print(\"Factorial of 0 = 1.\")\n",
    "elif num<0:\n",
    "          print(\"Factorial not possible\")\n",
    "else:\n",
    "      for i in range(1,num+1):\n",
    "            factorial=factorial*i\n",
    "          \n",
    "print(\"Factorial of {}! = {}\".format(num,factorial))\n",
    "          \n",
    "          "
   ]
  },
  {
   "cell_type": "markdown",
   "metadata": {},
   "source": [
    "# 2. Write a Python Program to Display the multiplication Table?"
   ]
  },
  {
   "cell_type": "code",
   "execution_count": 16,
   "metadata": {},
   "outputs": [
    {
     "name": "stdout",
     "output_type": "stream",
     "text": [
      "Enter any number:9\n",
      "Table of 9 is as follows\n",
      " 9 * 1 = 9\n",
      " 9 * 2 = 18\n",
      " 9 * 3 = 27\n",
      " 9 * 4 = 36\n",
      " 9 * 5 = 45\n",
      " 9 * 6 = 54\n",
      " 9 * 7 = 63\n",
      " 9 * 8 = 72\n",
      " 9 * 9 = 81\n",
      " 9 * 10 = 90\n"
     ]
    }
   ],
   "source": [
    "number = int(input(\"Enter any number:\"))\n",
    "\n",
    "if number==0:\n",
    "    print(\"Multiplication table doest exits\")\n",
    "else:\n",
    "    print(\"Table of {} is as follows\".format(number))\n",
    "    for i in range(1,11):\n",
    "        print(\" {} * {} = {}\".format(number,i,number*i))"
   ]
  },
  {
   "cell_type": "markdown",
   "metadata": {},
   "source": [
    "# 3. Write a Python Program to Print the Fibonacci sequence?"
   ]
  },
  {
   "cell_type": "code",
   "execution_count": 37,
   "metadata": {},
   "outputs": [
    {
     "name": "stdout",
     "output_type": "stream",
     "text": [
      "Enter number of terms:10\n",
      "0\n",
      "1\n",
      "1\n",
      "2\n",
      "3\n",
      "5\n",
      "8\n",
      "13\n",
      "21\n",
      "34\n"
     ]
    }
   ],
   "source": [
    "number=int(input(\"Enter number of terms:\"))\n",
    "\n",
    "num1=0\n",
    "num2=1\n",
    "\n",
    "if number<1:\n",
    "    print(\"Enter valid number i.e greater than equal to 1\")\n",
    "elif number==1:\n",
    "    print(0)\n",
    "elif number==2:\n",
    "    print(0)\n",
    "    print(1)\n",
    "else:\n",
    "    print(0)\n",
    "    print(1)\n",
    "    for i in range(3,number+1):\n",
    "        num=num1+num2\n",
    "        print(num)\n",
    "        num1=num2\n",
    "        num2=num"
   ]
  },
  {
   "cell_type": "markdown",
   "metadata": {},
   "source": [
    "# 4. Write a Python Program to Check Armstrong Number?"
   ]
  },
  {
   "cell_type": "code",
   "execution_count": 52,
   "metadata": {},
   "outputs": [
    {
     "name": "stdout",
     "output_type": "stream",
     "text": [
      "Enter any number1634\n",
      "1634\n",
      "1634 is Armstrong number\n"
     ]
    }
   ],
   "source": [
    "num=int(input(\"Enter any number\"))\n",
    "\n",
    "sum=0\n",
    "temp=num\n",
    "\n",
    "length=len(str(temp))\n",
    "\n",
    "\n",
    "while num>0:\n",
    "    var=num%10\n",
    "    sum+=var**length\n",
    "    num=num//10\n",
    "\n",
    "if sum==temp:\n",
    "    print(\"{} is Armstrong number\".format(temp))\n",
    "else:\n",
    "    print(\"{} is not an Armstrong number\".format(temp))"
   ]
  },
  {
   "cell_type": "markdown",
   "metadata": {},
   "source": [
    "# 5. Write a Python Program to Find Armstrong Number in an Interval?"
   ]
  },
  {
   "cell_type": "code",
   "execution_count": 66,
   "metadata": {},
   "outputs": [
    {
     "name": "stdout",
     "output_type": "stream",
     "text": [
      "Enter upper bound100\n",
      "Enter lower bound2000\n",
      "153\n",
      "370\n",
      "371\n",
      "407\n",
      "1634\n"
     ]
    }
   ],
   "source": [
    "lower_bound=int(input(\"Enter upper bound\"))\n",
    "upper_bound=int(input(\"Enter lower bound\"))\n",
    "\n",
    "for num in range(lower_bound,upper_bound+1):\n",
    "    \n",
    "    #initializing sum with 0\n",
    "    sum=0\n",
    "    temp=num\n",
    "    \n",
    "    # order of num\n",
    "    power=len(str(temp))\n",
    "\n",
    "    while temp>0:\n",
    "        #getting last digit\n",
    "        var=temp%10\n",
    "        sum+=var**power\n",
    "        temp //=10\n",
    "\n",
    "    if num==sum:\n",
    "        print(\"{}\".format(num))\n",
    "\n"
   ]
  },
  {
   "cell_type": "markdown",
   "metadata": {},
   "source": [
    "# 6. Write a Python Program to Find the Sum of Natural Numbers?"
   ]
  },
  {
   "cell_type": "code",
   "execution_count": 73,
   "metadata": {},
   "outputs": [
    {
     "name": "stdout",
     "output_type": "stream",
     "text": [
      "Enter any number10\n",
      "Sum of 10 natural number = 55\n"
     ]
    }
   ],
   "source": [
    "num=int(input(\"Enter any number\"))\n",
    "#initializing sum with 0\n",
    "sum=0\n",
    "if num>0:\n",
    "    for i in range(1,num+1):\n",
    "        sum=sum+i\n",
    "    print(\"Sum of {} natural number = {}\".format(num,sum))\n",
    "else:\n",
    "    print(\"please inter valid range\")"
   ]
  },
  {
   "cell_type": "code",
   "execution_count": null,
   "metadata": {},
   "outputs": [],
   "source": []
  }
 ],
 "metadata": {
  "kernelspec": {
   "display_name": "Python 3",
   "language": "python",
   "name": "python3"
  },
  "language_info": {
   "codemirror_mode": {
    "name": "ipython",
    "version": 3
   },
   "file_extension": ".py",
   "mimetype": "text/x-python",
   "name": "python",
   "nbconvert_exporter": "python",
   "pygments_lexer": "ipython3",
   "version": "3.8.5"
  }
 },
 "nbformat": 4,
 "nbformat_minor": 4
}
