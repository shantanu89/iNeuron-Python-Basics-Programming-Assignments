{
 "cells": [
  {
   "cell_type": "markdown",
   "metadata": {},
   "source": [
    "# 1. Write a Python Program to find sum of array?"
   ]
  },
  {
   "cell_type": "code",
   "execution_count": 5,
   "metadata": {},
   "outputs": [
    {
     "name": "stdout",
     "output_type": "stream",
     "text": [
      "Sum of arrary= 15\n"
     ]
    }
   ],
   "source": [
    "arr=[1,2,3,4,5]\n",
    "sum=0\n",
    "for i in arr:\n",
    "    sum=sum+i\n",
    "print(\"Sum of arrary=\",sum)"
   ]
  },
  {
   "cell_type": "markdown",
   "metadata": {},
   "source": [
    "# 2. Write a Python Program to find largest element in an array?"
   ]
  },
  {
   "cell_type": "code",
   "execution_count": 8,
   "metadata": {},
   "outputs": [
    {
     "name": "stdout",
     "output_type": "stream",
     "text": [
      "Largest element in array= 4676\n"
     ]
    }
   ],
   "source": [
    "arr=[23,4,123,65,873,4676,34]\n",
    "\n",
    "max=0\n",
    "for i in arr:\n",
    "    if i>max:\n",
    "        max=i\n",
    "\n",
    "print(\"Largest element in array=\",max)"
   ]
  },
  {
   "cell_type": "markdown",
   "metadata": {},
   "source": [
    "# 3. Write a Python Program for array rotation?"
   ]
  },
  {
   "cell_type": "code",
   "execution_count": 15,
   "metadata": {},
   "outputs": [
    {
     "name": "stdout",
     "output_type": "stream",
     "text": [
      "[34, 4676, 873, 65, 123, 4, 23]\n"
     ]
    }
   ],
   "source": [
    "#solution 1\n",
    "arr=[23,4,123,65,873,4676,34]\n",
    "\n",
    "print(arr[::-1])"
   ]
  },
  {
   "cell_type": "code",
   "execution_count": 21,
   "metadata": {},
   "outputs": [
    {
     "name": "stdout",
     "output_type": "stream",
     "text": [
      "34\n",
      "4676\n",
      "873\n",
      "65\n",
      "123\n",
      "4\n",
      "23\n"
     ]
    }
   ],
   "source": [
    "#solution2\n",
    "for i in range(len(arr)-1,-1,-1):\n",
    "    print(arr[i])"
   ]
  },
  {
   "cell_type": "markdown",
   "metadata": {},
   "source": [
    "# 4. Write a Python Program to Split the array and add the first part to the end?"
   ]
  },
  {
   "cell_type": "code",
   "execution_count": 27,
   "metadata": {},
   "outputs": [
    {
     "name": "stdout",
     "output_type": "stream",
     "text": [
      "Enter the lenth of your list : 5\n",
      "1\n",
      "2\n",
      "3\n",
      "4\n",
      "5\n",
      "The List   [1, 2, 3, 4, 5]\n",
      "Enter the number of elements to split  : 3\n",
      "The split list is : [1, 2, 3]\n",
      "The List after split and add : [4, 5, 1, 2, 3]\n"
     ]
    }
   ],
   "source": [
    "l = int(input(\"Enter the lenth of your list : \"))\n",
    "arr = []\n",
    "for i in range(l):\n",
    "    arr.append(int(input()))\n",
    "print(\"The List  \",arr)\n",
    "noro = int(input(\"Enter the number of elements to split  : \"))\n",
    "if noro > l:\n",
    "    print(\"can not split as elements to split is larger then list lengh\")\n",
    "else:\n",
    "    print(\"The split list is :\",arr[:noro])\n",
    "    arr[:] = arr[noro:l] + arr[:noro]\n",
    "    print(\"The List after split and add :\", arr)"
   ]
  },
  {
   "cell_type": "markdown",
   "metadata": {},
   "source": [
    "# 5. Write a Python Program to check if given array is Monotonic?"
   ]
  },
  {
   "cell_type": "code",
   "execution_count": 42,
   "metadata": {},
   "outputs": [
    {
     "name": "stdout",
     "output_type": "stream",
     "text": [
      "Enter total numbers to be added in array5\n",
      "1\n",
      "2\n",
      "3\n",
      "4\n",
      "5\n",
      "['1', '2', '3', '4', '5']\n",
      "Array is monotonic\n"
     ]
    }
   ],
   "source": [
    "num=int(input(\"Enter total numbers to be added in array\"))\n",
    "A=[]\n",
    "for i in range(num):\n",
    "    A.append(input())\n",
    "print(A)\n",
    "\n",
    "def isMonotonic(A):\n",
    "  \n",
    "    return (all(A[i] <= A[i + 1] for i in range(len(A) - 1)) or\n",
    "            all(A[i] >= A[i + 1] for i in range(len(A) - 1)))\n",
    "\n",
    "\n",
    "  \n",
    "if isMonotonic(A)==True:\n",
    "    print(\"Array is monotonic\")\n",
    "else:\n",
    "    print(\"Array is not monotonic\")\n",
    "    "
   ]
  }
 ],
 "metadata": {
  "kernelspec": {
   "display_name": "Python 3",
   "language": "python",
   "name": "python3"
  },
  "language_info": {
   "codemirror_mode": {
    "name": "ipython",
    "version": 3
   },
   "file_extension": ".py",
   "mimetype": "text/x-python",
   "name": "python",
   "nbconvert_exporter": "python",
   "pygments_lexer": "ipython3",
   "version": "3.8.5"
  }
 },
 "nbformat": 4,
 "nbformat_minor": 4
}
